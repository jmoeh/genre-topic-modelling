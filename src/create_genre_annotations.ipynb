{
 "cells": [
  {
   "cell_type": "code",
   "execution_count": 1,
   "metadata": {},
   "outputs": [],
   "source": [
    "import os\n",
    "import re"
   ]
  },
  {
   "cell_type": "code",
   "execution_count": 2,
   "metadata": {},
   "outputs": [],
   "source": [
    "script_dir = os.path.abspath('')"
   ]
  },
  {
   "cell_type": "code",
   "execution_count": 7,
   "metadata": {},
   "outputs": [
    {
     "name": "stdout",
     "output_type": "stream",
     "text": [
      "422714\n"
     ]
    }
   ],
   "source": [
    "rel_path_input = '../data/msd-MAGD-genreAssignment.cls'\n",
    "rel_path_output = '../data/msd-MAGD-genreAssignment.sql'\n",
    "abs_file_path_input = os.path.join(script_dir, rel_path_input)\n",
    "abs_file_path_output = os.path.join(script_dir, rel_path_output)\n",
    "\n",
    "\n",
    "file_magd = open(abs_file_path_input, 'r')\n",
    "file_magd_sql = open(abs_file_path_output, 'w+')\n",
    "lines = file_magd.readlines()\n",
    "\n",
    "print(len(lines))\n",
    "file_magd_sql.write('INSERT INTO genre_magd (track_id, genre) VALUES\\n')\n",
    "for line in lines:\n",
    "    params = line.split()\n",
    "    file_magd_sql.write(f\"('{params[0]}','{params[1]}'),\\n\")"
   ]
  },
  {
   "cell_type": "code",
   "execution_count": 5,
   "metadata": {},
   "outputs": [],
   "source": [
    "rel_path_input = '../data/msd_tagtraum_cd2.cls'\n",
    "rel_path_output = '../data/msd_tagtraum_cd2.sql'\n",
    "abs_file_path_input = os.path.join(script_dir, rel_path_input)\n",
    "abs_file_path_output = os.path.join(script_dir, rel_path_output)\n",
    "\n",
    "file_tagtraum = open(abs_file_path_input, 'r')\n",
    "file_tagtraum_sql = open(abs_file_path_output, 'w+')\n",
    "lines = file_tagtraum.readlines()\n",
    "\n",
    "file_tagtraum_sql.write('INSERT INTO genre_tagtraum (track_id, genre) VALUES\\n')\n",
    "for line in lines:\n",
    "    params = line.split()\n",
    "    track_id = params[0]\n",
    "    for param in params[1:]:\n",
    "        file_tagtraum_sql.write(f\"('{track_id}','{param}'),\\n\")\n",
    "    "
   ]
  }
 ],
 "metadata": {
  "kernelspec": {
   "display_name": "venv",
   "language": "python",
   "name": "python3"
  },
  "language_info": {
   "codemirror_mode": {
    "name": "ipython",
    "version": 3
   },
   "file_extension": ".py",
   "mimetype": "text/x-python",
   "name": "python",
   "nbconvert_exporter": "python",
   "pygments_lexer": "ipython3",
   "version": "3.8.10"
  },
  "orig_nbformat": 4,
  "vscode": {
   "interpreter": {
    "hash": "504701a44e11b2faf574547416ffe64ae9c1f633c6243da6fc761db6667eecd6"
   }
  }
 },
 "nbformat": 4,
 "nbformat_minor": 2
}
