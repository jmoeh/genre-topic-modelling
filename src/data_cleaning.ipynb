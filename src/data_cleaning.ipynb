{
 "cells": [
  {
   "cell_type": "code",
   "execution_count": null,
   "metadata": {},
   "outputs": [],
   "source": [
    "%run ./pkg/db.py"
   ]
  },
  {
   "cell_type": "code",
   "execution_count": null,
   "metadata": {},
   "outputs": [],
   "source": [
    "import nltk\n",
    "import pandas as pd\n",
    "import numpy as np\n",
    "from dotenv import load_dotenv\n",
    "from nltk.corpus import stopwords, wordnet\n",
    "from stemming.porter2 import stem\n"
   ]
  },
  {
   "cell_type": "code",
   "execution_count": null,
   "metadata": {},
   "outputs": [],
   "source": [
    "nltk.download('stopwords')\n",
    "nltk.download('words')\n",
    "nltk.download('wordnet')"
   ]
  },
  {
   "cell_type": "code",
   "execution_count": null,
   "metadata": {},
   "outputs": [],
   "source": [
    "\n",
    "load_dotenv()\n",
    "conn_string = os.getenv('POSTGRES_CONNECTION_STRING')"
   ]
  },
  {
   "cell_type": "code",
   "execution_count": null,
   "metadata": {},
   "outputs": [],
   "source": [
    "df_lyrics = get_dataframe('lyrics.sql', conn_string)\n",
    "df_songs = get_dataframe('songs.sql', conn_string)"
   ]
  },
  {
   "cell_type": "code",
   "execution_count": null,
   "metadata": {},
   "outputs": [],
   "source": [
    "# removing stopwords\n",
    "stops = set(stopwords.words('english'))\n",
    "stops_stem = set([stem(stop) for stop in stops])\n",
    "df_stop = df_lyrics[~df_lyrics['word'].isin(stops_stem)]\n",
    "df_stop.info()"
   ]
  },
  {
   "cell_type": "code",
   "execution_count": null,
   "metadata": {},
   "outputs": [],
   "source": [
    "eng_words = set(wordnet.words())\n",
    "eng_words_stem = set([stem(eng_word) for eng_word in eng_words])\n",
    "\n",
    "# function to determine if a word is english\n",
    "def is_english(word: str) -> bool:\n",
    "    return word in eng_words_stem or word in eng_words"
   ]
  },
  {
   "cell_type": "code",
   "execution_count": null,
   "metadata": {},
   "outputs": [],
   "source": [
    "# create a function to calculate the percentage of English words for a track\n",
    "def get_percentage_english(group: pd.DataFrame) -> float:\n",
    "    # create a list of words for the track\n",
    "    words = []\n",
    "    for _, row in group.iterrows():\n",
    "        words += [row['word']] * row['count']\n",
    "    # count the number of English words in the list\n",
    "    english_count = sum([1 for word in words if is_english(word)])\n",
    "    # calculate the percentage of English words\n",
    "    return english_count / len(words)"
   ]
  },
  {
   "cell_type": "code",
   "execution_count": null,
   "metadata": {},
   "outputs": [],
   "source": [
    "# removing tracks with less than 90% english words\n",
    "df_eng = df_stop.groupby(['track_id']).filter(lambda x: get_percentage_english(x) > 0.9)"
   ]
  },
  {
   "cell_type": "code",
   "execution_count": null,
   "metadata": {},
   "outputs": [],
   "source": [
    "# remove remaining non english words\n",
    "df_eng = df_eng[df_eng['word'].isin(eng_words) | df_eng['word'].isin(eng_words_stem)]"
   ]
  },
  {
   "cell_type": "code",
   "execution_count": null,
   "metadata": {},
   "outputs": [],
   "source": [
    "# asseble fragment column with counts and word\n",
    "df_eng['fragment'] = df_eng.apply(lambda x: [x['word']] * x['count'], axis=1)"
   ]
  },
  {
   "cell_type": "code",
   "execution_count": null,
   "metadata": {},
   "outputs": [],
   "source": [
    "# build track dataframe with combined fragments\n",
    "df_track = df_eng.groupby(df_eng['track_id'])['fragment'].apply(list).reset_index()\n",
    "df_track['fragment'] = df_track['fragment'].apply(lambda x: sum(x, []))\n",
    "df_track['fragment'] = df_track['fragment'].apply(lambda x: np.random.permutation(x).tolist())"
   ]
  },
  {
   "cell_type": "code",
   "execution_count": null,
   "metadata": {},
   "outputs": [],
   "source": [
    "# merge with song metadata\n",
    "df_final = pd.merge(df_track, df_songs, left_on='track_id', right_on='track_id')"
   ]
  },
  {
   "cell_type": "code",
   "execution_count": null,
   "metadata": {},
   "outputs": [],
   "source": [
    "# filter out unwanted genres\n",
    "df_final = df_final[df_final['genre'].isin(['Reggae','Rap','Pop_Rock','Country','RnB'])]"
   ]
  },
  {
   "cell_type": "code",
   "execution_count": null,
   "metadata": {},
   "outputs": [],
   "source": [
    "# sample out 3000 tracks for pop rock to equalize genre counts\n",
    "df_final = pd.concat([df_final[df_final['genre'] != 'Pop_Rock'], df_final[df_final['genre'] == 'Pop_Rock'].sample(n=3000, random_state=1)])"
   ]
  },
  {
   "cell_type": "code",
   "execution_count": null,
   "metadata": {},
   "outputs": [],
   "source": [
    "# save as dataframe\n",
    "df_eng.to_csv('../data/df_final.csv', encoding='utf-8')"
   ]
  }
 ],
 "metadata": {
  "kernelspec": {
   "display_name": "venv",
   "language": "python",
   "name": "python3"
  },
  "language_info": {
   "codemirror_mode": {
    "name": "ipython",
    "version": 3
   },
   "file_extension": ".py",
   "mimetype": "text/x-python",
   "name": "python",
   "nbconvert_exporter": "python",
   "pygments_lexer": "ipython3",
   "version": "3.10.6"
  },
  "orig_nbformat": 4,
  "vscode": {
   "interpreter": {
    "hash": "3de90a5f257a90c7d524da2e947aa75056eaab7c9b8a3ec9d793f7764de89c94"
   }
  }
 },
 "nbformat": 4,
 "nbformat_minor": 2
}
