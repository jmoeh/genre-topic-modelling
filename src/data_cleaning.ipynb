{
 "cells": [
  {
   "cell_type": "code",
   "execution_count": 19,
   "metadata": {},
   "outputs": [],
   "source": [
    "%run ./pkg/db.py"
   ]
  },
  {
   "cell_type": "code",
   "execution_count": 20,
   "metadata": {},
   "outputs": [],
   "source": [
    "import nltk\n",
    "import pandas as pd\n",
    "from dotenv import load_dotenv\n",
    "from nltk.corpus import stopwords, wordnet\n",
    "from stemming.porter2 import stem\n"
   ]
  },
  {
   "cell_type": "code",
   "execution_count": 21,
   "metadata": {},
   "outputs": [
    {
     "name": "stderr",
     "output_type": "stream",
     "text": [
      "[nltk_data] Downloading package stopwords to /home/jmoeh/nltk_data...\n",
      "[nltk_data]   Package stopwords is already up-to-date!\n",
      "[nltk_data] Downloading package words to /home/jmoeh/nltk_data...\n",
      "[nltk_data]   Package words is already up-to-date!\n",
      "[nltk_data] Downloading package wordnet to /home/jmoeh/nltk_data...\n",
      "[nltk_data]   Package wordnet is already up-to-date!\n"
     ]
    },
    {
     "data": {
      "text/plain": [
       "True"
      ]
     },
     "execution_count": 21,
     "metadata": {},
     "output_type": "execute_result"
    }
   ],
   "source": [
    "nltk.download('stopwords')\n",
    "nltk.download('words')\n",
    "nltk.download('wordnet')"
   ]
  },
  {
   "cell_type": "code",
   "execution_count": 22,
   "metadata": {},
   "outputs": [],
   "source": [
    "\n",
    "load_dotenv()\n",
    "conn_string = os.getenv('POSTGRES_CONNECTION_STRING')"
   ]
  },
  {
   "cell_type": "code",
   "execution_count": 23,
   "metadata": {},
   "outputs": [
    {
     "name": "stdout",
     "output_type": "stream",
     "text": [
      "SELECT * FROM lyrics WHERE track_id IN (\n",
      "    SELECT track_id FROM lyrics GROUP BY track_id ORDER BY random() LIMIT 1000\n",
      ")\n"
     ]
    }
   ],
   "source": [
    "df = get_dataframe('lyrics_limit.sql', conn_string)"
   ]
  },
  {
   "cell_type": "code",
   "execution_count": 24,
   "metadata": {},
   "outputs": [
    {
     "name": "stdout",
     "output_type": "stream",
     "text": [
      "<class 'pandas.core.frame.DataFrame'>\n",
      "Int64Index: 51982 entries, 20 to 80182\n",
      "Data columns (total 5 columns):\n",
      " #   Column    Non-Null Count  Dtype \n",
      "---  ------    --------------  ----- \n",
      " 0   track_id  51982 non-null  object\n",
      " 1   mxm_tid   51982 non-null  int64 \n",
      " 2   word      51982 non-null  object\n",
      " 3   count     51982 non-null  int64 \n",
      " 4   is_test   51982 non-null  int64 \n",
      "dtypes: int64(3), object(2)\n",
      "memory usage: 2.4+ MB\n"
     ]
    }
   ],
   "source": [
    "# removing stopwords\n",
    "stops = set(stopwords.words('english'))\n",
    "stops_stem = set([stem(stop) for stop in stops])\n",
    "df_stop = df[~df['word'].isin(stops_stem)]\n",
    "df_stop.info()"
   ]
  },
  {
   "cell_type": "code",
   "execution_count": 25,
   "metadata": {},
   "outputs": [],
   "source": [
    "eng_words = set(wordnet.words())\n",
    "eng_words_stem = set([stem(eng_word) for eng_word in eng_words])\n",
    "\n",
    "# function to determine if a word is english\n",
    "def is_english(word: str) -> bool:\n",
    "    return word in eng_words_stem or word in eng_words"
   ]
  },
  {
   "cell_type": "code",
   "execution_count": 26,
   "metadata": {},
   "outputs": [],
   "source": [
    "# create a function to calculate the percentage of English words for a track\n",
    "def get_percentage_english(group: pd.DataFrame) -> float:\n",
    "    # create a list of words for the track\n",
    "    words = []\n",
    "    for _, row in group.iterrows():\n",
    "        words += [row['word']] * row['count']\n",
    "    # count the number of English words in the list\n",
    "    english_count = sum([1 for word in words if is_english(word)])\n",
    "    # calculate the percentage of English words\n",
    "    return english_count / len(words)"
   ]
  },
  {
   "cell_type": "code",
   "execution_count": 27,
   "metadata": {},
   "outputs": [],
   "source": [
    "# removing tracks with less than 90% english words\n",
    "df_eng = df_stop.groupby(['track_id']).filter(lambda x: get_percentage_english(x) > 0.9)"
   ]
  },
  {
   "cell_type": "code",
   "execution_count": 28,
   "metadata": {},
   "outputs": [],
   "source": [
    "df_eng = df_eng[df_eng['word'].isin(eng_words) | df_eng['word'].isin(eng_words_stem)]"
   ]
  },
  {
   "cell_type": "code",
   "execution_count": 29,
   "metadata": {},
   "outputs": [],
   "source": [
    "df_eng.reset_index()[['track_id','word','count']].to_csv('../data/df_eng_1000.csv', encoding='utf-8')"
   ]
  }
 ],
 "metadata": {
  "kernelspec": {
   "display_name": "venv",
   "language": "python",
   "name": "python3"
  },
  "language_info": {
   "codemirror_mode": {
    "name": "ipython",
    "version": 3
   },
   "file_extension": ".py",
   "mimetype": "text/x-python",
   "name": "python",
   "nbconvert_exporter": "python",
   "pygments_lexer": "ipython3",
   "version": "3.10.6"
  },
  "orig_nbformat": 4,
  "vscode": {
   "interpreter": {
    "hash": "3de90a5f257a90c7d524da2e947aa75056eaab7c9b8a3ec9d793f7764de89c94"
   }
  }
 },
 "nbformat": 4,
 "nbformat_minor": 2
}
