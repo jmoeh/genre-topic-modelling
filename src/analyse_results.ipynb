{
 "cells": [
  {
   "cell_type": "code",
   "execution_count": null,
   "metadata": {},
   "outputs": [],
   "source": [
    "import matplotlib.pyplot as plt\n",
    "import numpy as np\n",
    "import pandas as pd\n",
    "import pyLDAvis\n",
    "import pyLDAvis.gensim\n",
    "from gensim import corpora\n",
    "from gensim.models import LdaMulticore\n",
    "from sklearn.discriminant_analysis import LinearDiscriminantAnalysis\n",
    "from sklearn.model_selection import GridSearchCV, train_test_split\n",
    "from sklearn.preprocessing import StandardScaler"
   ]
  },
  {
   "cell_type": "code",
   "execution_count": null,
   "metadata": {},
   "outputs": [],
   "source": [
    "# load previously created result dataframe\n",
    "df_result = pd.read_csv('../data/df_result.csv', index_col=0)"
   ]
  },
  {
   "cell_type": "code",
   "execution_count": null,
   "metadata": {},
   "outputs": [],
   "source": [
    "# load model and term dictionary\n",
    "lda_model = LdaMulticore.load('../models/lda_15')\n",
    "id2word = corpora.Dictionary.load('../models/lda_15.id2word')\n",
    "corpus = corpora.MmCorpus('../models/corpus.mm')"
   ]
  },
  {
   "cell_type": "code",
   "execution_count": null,
   "metadata": {},
   "outputs": [],
   "source": [
    "# visualize lda model\n",
    "pyLDAvis.enable_notebook()\n",
    "topic_data = pyLDAvis.gensim.prepare(lda_model, corpus, id2word, mds='mmds', sort_topics=False)\n",
    "pyLDAvis.display(topic_data)\n"
   ]
  },
  {
   "cell_type": "code",
   "execution_count": null,
   "metadata": {},
   "outputs": [],
   "source": [
    "topic_data.topic_info"
   ]
  },
  {
   "cell_type": "code",
   "execution_count": null,
   "metadata": {},
   "outputs": [],
   "source": [
    "lambda_value = 0.4\n",
    "num_terms = 8\n",
    "\n",
    "for n_topic in range(lda_model.num_topics):\n",
    "    df_genres = df_result.groupby('genre')\n",
    "    topic_probs = df_genres[f'{n_topic}'].apply(list).values.tolist()\n",
    "\n",
    "    # get updated term sorting by LDAvis with given lambda value\n",
    "    topic = topic_data.topic_info[topic_data.topic_info.Category == f'Topic{n_topic+1}'].copy()\n",
    "    topic['relevance'] = topic['loglift']*(1-lambda_value)+topic['logprob']*lambda_value\n",
    "    topic_words = topic.sort_values(by='relevance', ascending=False).Term[:num_terms].values\n",
    "\n",
    "    # get default sorting of topics\n",
    "    # topic_terms = lda_model.get_topic_terms(n_topic)\n",
    "    # topic_words = [id2word[term] for term, _ in topic_terms]\n",
    "    \n",
    "    # draw boxplot graphs showing the topic proablilities\n",
    "    fig = plt.figure(figsize=(8,6))\n",
    "    plt.boxplot(topic_probs, labels=df_genres.groups)\n",
    "    plt.title(f'topic {n_topic+1}; common words:{list(topic_words)}')"
   ]
  },
  {
   "cell_type": "code",
   "execution_count": null,
   "metadata": {},
   "outputs": [],
   "source": [
    "# split X and y data\n",
    "X = df_result[[f'{n_topic}' for n_topic in range(lda_model.num_topics)]].values\n",
    "y = df_result[['genre']].values\n",
    "\n",
    "X_train, X_test, y_train, y_test = train_test_split(X,y, random_state=1)"
   ]
  },
  {
   "cell_type": "code",
   "execution_count": null,
   "metadata": {},
   "outputs": [],
   "source": [
    "# scale the data\n",
    "scaler = StandardScaler()\n",
    "X_train = scaler.fit_transform(X_train)\n",
    "X_test = scaler.transform(X_test)"
   ]
  },
  {
   "cell_type": "code",
   "execution_count": null,
   "metadata": {},
   "outputs": [],
   "source": [
    "# get training and test data\n",
    "param_grid = {\n",
    "    'solver':['svd','eigen'],\n",
    "    'shrinkage': np.linspace(0.01, 1, 100) \n",
    "}\n",
    "lda2_model = LinearDiscriminantAnalysis()\n",
    "search = GridSearchCV(lda2_model, param_grid, scoring='accuracy', cv=5, n_jobs=-1)\n",
    "results = search.fit(X_train,y_train)"
   ]
  },
  {
   "cell_type": "code",
   "execution_count": null,
   "metadata": {},
   "outputs": [],
   "source": [
    "# summarize model training\n",
    "print('Mean Accuracy: %.3f' % results.best_score_)\n",
    "print('Config: %s' % results.best_params_)"
   ]
  },
  {
   "cell_type": "code",
   "execution_count": null,
   "metadata": {},
   "outputs": [],
   "source": [
    "# get the best lda2 model and get predicted test values\n",
    "best_lda2_model = results.best_estimator_\n",
    "y_hat = best_lda2_model.predict(X_test)"
   ]
  },
  {
   "cell_type": "code",
   "execution_count": null,
   "metadata": {},
   "outputs": [],
   "source": [
    "# get confusion matrix\n",
    "from sklearn.metrics import confusion_matrix\n",
    "c_matrix = confusion_matrix(y_test, y_hat)\n",
    "print(c_matrix)"
   ]
  },
  {
   "cell_type": "code",
   "execution_count": null,
   "metadata": {},
   "outputs": [],
   "source": [
    "# get classification report\n",
    "from sklearn.metrics import classification_report\n",
    "c_report = classification_report(y_test, y_hat)\n",
    "print(c_report)"
   ]
  }
 ],
 "metadata": {
  "kernelspec": {
   "display_name": "venv",
   "language": "python",
   "name": "python3"
  },
  "language_info": {
   "codemirror_mode": {
    "name": "ipython",
    "version": 3
   },
   "file_extension": ".py",
   "mimetype": "text/x-python",
   "name": "python",
   "nbconvert_exporter": "python",
   "pygments_lexer": "ipython3",
   "version": "3.10.6"
  },
  "orig_nbformat": 4
 },
 "nbformat": 4,
 "nbformat_minor": 2
}
