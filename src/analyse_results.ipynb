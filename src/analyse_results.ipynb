{
 "cells": [
  {
   "cell_type": "code",
   "execution_count": null,
   "metadata": {},
   "outputs": [],
   "source": [
    "import pyLDAvis\n",
    "import pyLDAvis.gensim\n",
    "import pandas as pd\n",
    "import matplotlib.pyplot as plt\n",
    "from gensim import corpora\n",
    "from gensim.models import LdaMulticore"
   ]
  },
  {
   "cell_type": "code",
   "execution_count": null,
   "metadata": {},
   "outputs": [],
   "source": [
    "# load previously created result dataframe\n",
    "df_result = pd.read_csv('../data/df_result.csv', index_col=0)"
   ]
  },
  {
   "cell_type": "code",
   "execution_count": null,
   "metadata": {},
   "outputs": [],
   "source": [
    "# load model and term dictionary\n",
    "lda_model = LdaMulticore.load('../models/lda_15')\n",
    "id2word = corpora.Dictionary.load('../models/lda_15.id2word')\n",
    "corpus = corpora.MmCorpus('../models/corpus.mm')"
   ]
  },
  {
   "cell_type": "code",
   "execution_count": null,
   "metadata": {},
   "outputs": [],
   "source": [
    "pyLDAvis.enable_notebook()\n",
    "topic_data = pyLDAvis.gensim.prepare(lda_model, corpus, id2word, mds='mmds', sort_topics=False)\n",
    "pyLDAvis.display(topic_data)\n"
   ]
  },
  {
   "cell_type": "code",
   "execution_count": null,
   "metadata": {},
   "outputs": [],
   "source": [
    "topic_data.topic_info"
   ]
  },
  {
   "cell_type": "code",
   "execution_count": null,
   "metadata": {},
   "outputs": [],
   "source": [
    "lambda_value = 0.4\n",
    "num_terms = 8\n",
    "\n",
    "for n_topic in range(lda_model.num_topics):\n",
    "    df_genres = df_result.groupby('genre')\n",
    "    topic_probs = df_genres[f'{n_topic}'].apply(list).values.tolist()\n",
    "\n",
    "    # get updated term sorting by LDAvis with given lambda value\n",
    "    topic = topic_data.topic_info[topic_data.topic_info.Category == f'Topic{n_topic+1}'].copy()\n",
    "    topic['relevance'] = topic['loglift']*(1-lambda_value)+topic['logprob']*lambda_value\n",
    "    topic_words = topic.sort_values(by='relevance', ascending=False).Term[:num_terms].values\n",
    "\n",
    "    # get default sorting of topics\n",
    "    # topic_terms = lda_model.get_topic_terms(n_topic)\n",
    "    # topic_words = [id2word[term] for term, _ in topic_terms]\n",
    "    \n",
    "    # draw boxplot graphs showing the topic proablilities\n",
    "    fig = plt.figure(figsize=(8,6))\n",
    "    plt.boxplot(topic_probs, labels=df_genres.groups)\n",
    "    plt.title(f'topic {n_topic+1}; common words:{list(topic_words)}')"
   ]
  },
  {
   "cell_type": "code",
   "execution_count": null,
   "metadata": {},
   "outputs": [],
   "source": [
    "# assemble topic distrs of topics for ANOVA test\n",
    "df_result_genre = df_result.groupby('genre').agg({f'{n_topic}':'mean' for n_topic in range(lda_model.num_topics)})"
   ]
  }
 ],
 "metadata": {
  "kernelspec": {
   "display_name": "venv",
   "language": "python",
   "name": "python3"
  },
  "language_info": {
   "codemirror_mode": {
    "name": "ipython",
    "version": 3
   },
   "file_extension": ".py",
   "mimetype": "text/x-python",
   "name": "python",
   "nbconvert_exporter": "python",
   "pygments_lexer": "ipython3",
   "version": "3.10.6"
  },
  "orig_nbformat": 4
 },
 "nbformat": 4,
 "nbformat_minor": 2
}
